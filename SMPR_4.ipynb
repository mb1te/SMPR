{
  "nbformat": 4,
  "nbformat_minor": 0,
  "metadata": {
    "colab": {
      "name": "SMPR_4.ipynb",
      "provenance": [],
      "collapsed_sections": [],
      "authorship_tag": "ABX9TyPDWWJM15x0ztfgXzNqIN2I",
      "include_colab_link": true
    },
    "kernelspec": {
      "name": "python3",
      "display_name": "Python 3"
    },
    "language_info": {
      "name": "python"
    }
  },
  "cells": [
    {
      "cell_type": "markdown",
      "metadata": {
        "id": "view-in-github",
        "colab_type": "text"
      },
      "source": [
        "<a href=\"https://colab.research.google.com/github/mb1te/SMPR/blob/main/SMPR_4.ipynb\" target=\"_parent\"><img src=\"https://colab.research.google.com/assets/colab-badge.svg\" alt=\"Open In Colab\"/></a>"
      ]
    },
    {
      "cell_type": "markdown",
      "metadata": {
        "id": "2lmRsOTsbXEC"
      },
      "source": [
        "**0. Загрузка датасета**"
      ]
    },
    {
      "cell_type": "code",
      "metadata": {
        "id": "ddkwH4KlLUge"
      },
      "source": [
        "import seaborn as sns\n",
        "df = sns.load_dataset('iris')\n",
        "X = df[['sepal_length', 'sepal_width', 'petal_length', 'petal_width']]\n",
        "y = df[['species']]"
      ],
      "execution_count": null,
      "outputs": []
    },
    {
      "cell_type": "markdown",
      "metadata": {
        "id": "RxlUUbLFbuzD"
      },
      "source": [
        "**1. STOLP**\n",
        "\n",
        "Отступ -- величина, равная  разности между степенью близости объекта к своему классу и суммой близостей объекта ко всем остальным классам. Отступ показывает типичность объекта.\n",
        "\n",
        "$M(x_i) = W_{y_i}(x_i, X^l) - \\max{W_y(x_i, X^l)}$.\n",
        "\n",
        "Элементы обучающей выборки можно разделить на 5 классов: \n",
        "\n",
        "1) Эталонные объекты -- типичные представители своего класса\n",
        "\n",
        "2) Неинформативные - объекты, которые сильно не влияют на качество классификации\n",
        "\n",
        "3) Пограничные - объекты, имеющие отступ, близкий к нулю. Незначительное изменение повлияет на их классификацию.\n",
        "\n",
        "4) Ошибочные - объекты с отрицательными отступами, классифицируемые неверно.\n",
        "\n",
        "5) Шумовые объекты (выбросы) - малая группа объектов с большими отрицательными отступами.\n",
        "\n",
        "\\\\\n",
        "\n",
        "Нижен реализован алгоритм STOLP на основе классификатора KNN\n",
        "\n",
        "1) Считаются все отступы объектов\n",
        "\n",
        "2) Отступы сортируются, находится пара соседних с наибольшей разницей значений, левый элемент пары считаем началом шумов\n",
        "\n",
        "3) Удаляем шумы из выборки\n",
        "\n",
        "4) Находим эталоны для каждого класса, объекты с наибольшими отступами и помещаем в $\\Omega$\n",
        "\n",
        "5) Пока $\\Omega \\neq X^l$ находим среди ошибочно распознаваемых объектов объект с наименьшим отступом и помещаем его в $\\Omega$\n",
        "\n",
        "6) Если число ошибок меньше заданного $l_0$ останавливаем работу алгоритма"
      ]
    },
    {
      "cell_type": "code",
      "metadata": {
        "id": "AD5drWVRLY31"
      },
      "source": [
        "from sklearn.neighbors import KDTree\n",
        "import matplotlib.pyplot as plt\n",
        "\n",
        "\"\"\"\n",
        "Класс, реализующий алгоритм STOLP на основе классификатора KNN\n",
        "\"\"\"\n",
        "class STOLPBasedOnKNN:\n",
        "  \"\"\"\n",
        "  Конструктор класса\n",
        "  X -- выборка (pandas.DataFrame)\n",
        "  y -- ответы для выборки (pandas.Series)\n",
        "  k -- число соседей в KNN\n",
        "  \"\"\"\n",
        "  def __init__(self, X, y, k):\n",
        "    self.X = X\n",
        "    self.y = y\n",
        "    self.k = k\n",
        "    self.size = len(X)\n",
        "    self.tree = KDTree(X)\n",
        "  \n",
        "  \"\"\"\n",
        "  Метод считает отступ от объекта до заданного множества исходной выборки\n",
        "  X -- подмножество выборки\n",
        "  ind -- индекс объекта\n",
        "  \"\"\"\n",
        "  def calc_margin(self, X, ind):\n",
        "    distances = self.tree.query([self.X.iloc[ind].values], \n",
        "                                    k=self.k,\n",
        "                                    return_distance=False).flatten()\n",
        "    indexes = self.y[y.species != self.y.values[ind][0]].index\n",
        "    tree2 = KDTree(self.X.iloc[indexes])                      \n",
        "    distances2 = tree2.query([self.X.iloc[ind].values], \n",
        "                                    k=self.k,\n",
        "                                    return_distance=False).flatten()\n",
        "    label_counter, label_counter2 = {}, {}\n",
        "    for label_ind in distances:\n",
        "      label = self.y.iloc[label_ind].values[0]\n",
        "      if label not in label_counter:\n",
        "        label_counter[label] = 0\n",
        "      label_counter[label] += 1\n",
        "\n",
        "    for label_ind in distances2:\n",
        "      label = self.y.iloc[label_ind].values[0]\n",
        "      if label not in label_counter2:\n",
        "        label_counter2[label] = 0\n",
        "      label_counter2[label] += 1\n",
        "    W_y_i = label_counter[max(label_counter, key=label_counter.get)]\n",
        "    W_y = label_counter2[max(label_counter2, key=label_counter2.get)]\n",
        "    return (ind, W_y_i - W_y)\n",
        "\n",
        "  \"\"\"\n",
        "  Метод считает отступы для каждого объекта.\n",
        "  Считается разность значений на выборке с классом этого объекта и без него. \n",
        "  \"\"\"\n",
        "  def calc_margins(self):\n",
        "    margins = []\n",
        "    for i in range(self.size):\n",
        "      margin = self.calc_margin(self.X, i)\n",
        "      margins.append(margin)\n",
        "    self.margins = margins\n",
        "\n",
        "  \"\"\"\n",
        "  Метод определяет ошибается ли алгоритм на объекте\n",
        "  ind -- индекс объекта в выборке\n",
        "  \"\"\"\n",
        "  def is_error(ind):\n",
        "    distances = self._tree.query([self.X.iloc[xi].values], \n",
        "                                    k=self.k + 1,\n",
        "                                    return_distance=False).flatten()\n",
        "    label_counter = {}\n",
        "    for label_ind in distances:\n",
        "      label = self.y.iloc[label_ind].values[0]\n",
        "      if label not in label_counter:\n",
        "        label_counter[label] = 0\n",
        "      label_counter[label] += 1\n",
        "    f = max(label_counter, key=label_counter.get)\n",
        "    y = y.values[xi][0]\n",
        "    return f == y\n",
        "\n",
        "  \"\"\"\n",
        "  Метод находит верхнюю границу отступов для шумов алгоритом крутого склона\n",
        "  \"\"\"\n",
        "  def get_noises_limit(self):\n",
        "    neg_margins = sorted(filter(lambda x: x[1] < 0, self.margins))\n",
        "    noise_ind, max_dif = 0, neg_margins[1][1] - neg_margins[0][1]\n",
        "    for i in range(2, len(neg_margins)):\n",
        "      if neg_margins[i][1] - neg_margins[i - 1][1] >= max_dif:\n",
        "        noise_ind = i - 1\n",
        "        max_dif = neg_margins[i][1] - neg_margins[i - 1][1]\n",
        "        \n",
        "    return neg_margins[noise_ind][1]\n",
        "\n",
        "  \"\"\"\n",
        "  Метод реализует алгоритм STOLP. Алгоритм описан выше.\n",
        "  \"\"\"\n",
        "  def stolp(self, l0):\n",
        "    self.calc_margins()\n",
        "    \n",
        "    noise_limit = self.get_noises_limit()\n",
        "    filtered = [i[0] for i in filter(lambda x: x[1] > noise_limit, self.margins)]\n",
        "\n",
        "    X_len = len(self.margins)\n",
        "\n",
        "    omega = []\n",
        "    standards = {}\n",
        "    for i in filtered:\n",
        "      margin = self.calc_margin(self.X.iloc[filtered], i)\n",
        "      y_i = self.y.values[i][0]\n",
        "      if y_i not in standards or margin > standards[y_i][1]:\n",
        "        standards[y_i] = (i, margin)\n",
        "    \n",
        "    for k in standards:\n",
        "      omega.append(standards[k][0])\n",
        "\n",
        "    while len(omega) < X_len:\n",
        "      errors = []\n",
        "      for i in self.margins:\n",
        "        if i[0] in omega or i[1] >= 0:\n",
        "          continue\n",
        "        errors.append((i[0], self.calc_margin(self.X.iloc[omega], i[0])))\n",
        "\n",
        "      if len(errors) <= l0:\n",
        "        break\n",
        "      \n",
        "      minv = min(errors, key=lambda x: x[1])\n",
        "      omega.append(minv[0])\n",
        "    \n",
        "    return omega\n",
        "\n",
        "  \"\"\"\n",
        "  Метод рисует график отступов\n",
        "  \"\"\"\n",
        "  def draw_margins(self):\n",
        "    self.calc_margins()\n",
        "    x_axis = [tick for tick in range(self.size)]\n",
        "    plt.plot(x_axis, [i[1] for i in sorted(self.margins, key=lambda x: x[1])])\n",
        "    plt.show()"
      ],
      "execution_count": null,
      "outputs": []
    },
    {
      "cell_type": "markdown",
      "metadata": {
        "id": "TbdJFjUNKtSK"
      },
      "source": [
        "Построим график отступов на основе классификаторра KNN с $k = 19$:"
      ]
    },
    {
      "cell_type": "code",
      "metadata": {
        "colab": {
          "base_uri": "https://localhost:8080/",
          "height": 265
        },
        "id": "_rF4GHCswsKv",
        "outputId": "a77d7802-7cbb-4697-9613-516557794b2f"
      },
      "source": [
        "STOLP = STOLPBasedOnKNN(X, y, 19)\n",
        "STOLP.draw_margins()"
      ],
      "execution_count": null,
      "outputs": [
        {
          "output_type": "display_data",
          "data": {
            "image/png": "[encoded data removed]",
            "text/plain": [
              "<Figure size 432x288 with 1 Axes>"
            ]
          },
          "metadata": {
            "needs_background": "light"
          }
        }
      ]
    },
    {
      "cell_type": "markdown",
      "metadata": {
        "id": "SCPOZ98vLDs_"
      },
      "source": [
        "Получаем выборку из эталонов:"
      ]
    },
    {
      "cell_type": "code",
      "metadata": {
        "id": "wd2Pp3IpwwHM",
        "colab": {
          "base_uri": "https://localhost:8080/"
        },
        "outputId": "27aa9632-e01c-48e8-ebbc-3fd0c4c1e1f2"
      },
      "source": [
        "indexes = STOLP.stolp(5)\n",
        "indexes"
      ],
      "execution_count": null,
      "outputs": [
        {
          "output_type": "execute_result",
          "data": {
            "text/plain": [
              "[49,\n",
              " 99,\n",
              " 149,\n",
              " 50,\n",
              " 51,\n",
              " 52,\n",
              " 54,\n",
              " 56,\n",
              " 58,\n",
              " 59,\n",
              " 63,\n",
              " 66,\n",
              " 68,\n",
              " 70,\n",
              " 72,\n",
              " 73,\n",
              " 75,\n",
              " 76,\n",
              " 77,\n",
              " 78,\n",
              " 83,\n",
              " 84,\n",
              " 85,\n",
              " 86,\n",
              " 87,\n",
              " 91,\n",
              " 101,\n",
              " 103,\n",
              " 106,\n",
              " 110,\n",
              " 111,\n",
              " 113,\n",
              " 114,\n",
              " 116,\n",
              " 119,\n",
              " 121,\n",
              " 123,\n",
              " 126,\n",
              " 127,\n",
              " 129,\n",
              " 133,\n",
              " 134,\n",
              " 137,\n",
              " 138,\n",
              " 139]"
            ]
          },
          "metadata": {},
          "execution_count": 53
        }
      ]
    },
    {
      "cell_type": "markdown",
      "metadata": {
        "id": "znPqMDKFNHXp"
      },
      "source": [
        "Изобразим выбранные эталоны на карте при обучении на двух признаках:\n"
      ]
    },
    {
      "cell_type": "code",
      "metadata": {
        "id": "SmP5f0J_NKgp"
      },
      "source": [
        "stolp2 = STOLPBasedOnKNN(X, y, 19)\n",
        "indexes2 = stolp2.stolp(10)\n",
        "\n",
        "color = {'virginica': 'blue', 'versicolor': 'red', 'setosa': 'green'}\n",
        "\n",
        "fig, ax = plt.subplots()\n",
        "\n",
        "for ind in range(len(X)):\n",
        "  plt.scatter(X['petal_width'].values[ind], X['petal_length'].values[ind], \n",
        "              color='none', edgecolor=color[y.values[ind][0]])\n",
        "for ind in indexes:\n",
        "  plt.scatter(X['petal_width'].values[ind], X['petal_length'].values[ind], \n",
        "              color=color[y.values[ind][0]])\n",
        "\n",
        "plt.rcParams['figure.figsize'] = [15, 12]\n",
        "plt.xticks(np.arange(0, 3.5, 0.5))\n",
        "plt.yticks(np.arange(1, 7, 0.5))\n",
        "plt.show()\n"
      ],
      "execution_count": null,
      "outputs": []
    },
    {
      "cell_type": "markdown",
      "metadata": {
        "id": "0tIheC5QLp5X"
      },
      "source": [
        "Подключаем KNN из первого задания:"
      ]
    },
    {
      "cell_type": "code",
      "metadata": {
        "id": "2yJxpyqFLuk5"
      },
      "source": [
        "import numpy as np\n",
        "\n",
        "from matplotlib import pyplot as plt\n",
        "from sklearn.neighbors import KDTree\n",
        "\n",
        "class KNNClassifier:\n",
        "    \"\"\"\n",
        "    Классификатор, реализующий метод ближайших соседей\n",
        "    \"\"\"\n",
        "\n",
        "    \"\"\"\n",
        "    Конструктор класса\n",
        "    x - pandas.DataFrame с признаками\n",
        "    y - pandas.Series с метками классов\n",
        "\n",
        "    Сохраняет в класс признаки с метками, их длину, создает KDTree по признакам.\n",
        "    \"\"\"\n",
        "    def __init__(self, x, y):\n",
        "        self._x = x\n",
        "        self._y = y\n",
        "        self._tree = KDTree(x)\n",
        "        self._size = len(x)\n",
        "        self._train()\n",
        "\n",
        "    \"\"\"\n",
        "    Метод вычисляющий оптимальное k.\n",
        "    Реализован LOO. Берутся ближайшие соседи для удаленного элемента из KDTree.\n",
        "    Создается словарь label_counter с счетчиком меток классов.\n",
        "    Считаются потери, затем возвращается оптимальное k.\n",
        "    \"\"\"\n",
        "\n",
        "    def _get_optimal_k(self):\n",
        "        losses = [0] * (self._size - 1)\n",
        "\n",
        "        for drop_index in range(self._size):\n",
        "            distances = self._tree.query([self._x.iloc[drop_index].values], \n",
        "                                         k=self._size,\n",
        "                                         return_distance=False).flatten()\n",
        "            label_counter = {}\n",
        "            for l_ind, df_ind in enumerate(distances[1:]):\n",
        "                cur_label = self._y.iloc[df_ind].values[0]\n",
        "                if cur_label not in label_counter:\n",
        "                  label_counter[cur_label] = 0\n",
        "                label_counter[cur_label] += 1\n",
        "                \n",
        "                answer = self._y.iloc[drop_index].values[0]\n",
        "                predicted = max(label_counter, key=label_counter.get)\n",
        "                losses[l_ind] += answer != predicted\n",
        "\n",
        "        losses = [i / (self._size - 1) for i in losses]\n",
        "        self._losses = losses\n",
        "        return np.argmin(losses) + 1\n",
        "\n",
        "    \"\"\"\n",
        "    Метод train вызывает подсчет оптимального k\n",
        "    \"\"\"\n",
        "\n",
        "    def _train(self):\n",
        "        self._k = self._get_optimal_k()\n",
        "\n",
        "    \"\"\"\n",
        "    Метод visualize_training визуализирует потери для различных k.\n",
        "    Использует данные о потерях сохраненные в _losses при подсчет оптимального k.\n",
        "    \"\"\"\n",
        "\n",
        "    def visualize_training(self):\n",
        "        x_axis = [tick for tick in range(self._size - 1)]\n",
        "        plt.plot(x_axis, self._losses)\n",
        "        plt.plot(self._k - 1, self._losses[self._k - 1], 'go')\n",
        "        plt.show()\n",
        "        print(f'min at k = {self._k}')\n",
        "\n",
        "    \"\"\"\n",
        "    Метод predict предсказывает метки классов для новых объектов.\n",
        "    x_pred - pandas.DataFrame с признаками новых объектов.\n",
        "    Достаются k ближайших объектов из KDTree. Считается самая частая метка\n",
        "    при помощи метода idxmax (аналог argmin в pandas).\n",
        "    Возвращается pandas.Series с предсказанными метками.\n",
        "    \"\"\"\n",
        "\n",
        "    def predict(self, x_pred):\n",
        "        predicted = []\n",
        "        for obj in x_pred.values:\n",
        "            distances = self._tree.query([obj], \n",
        "                                         k=self._k + 1,\n",
        "                                         return_distance=False).flatten()\n",
        "            labels = self._y.iloc[distances[1:]]\n",
        "            predicted.append(labels.value_counts().idxmax(axis=0)[0])\n",
        "        return pd.Series(predicted)"
      ],
      "execution_count": null,
      "outputs": []
    },
    {
      "cell_type": "markdown",
      "metadata": {
        "id": "gPwH7VuiLxjB"
      },
      "source": [
        "Сравним KNN на исходной выборке и выборке из эталонов:"
      ]
    },
    {
      "cell_type": "code",
      "metadata": {
        "colab": {
          "base_uri": "https://localhost:8080/",
          "height": 620
        },
        "id": "Cb9ryKIDL2kI",
        "outputId": "f91dc3ce-9a2a-40be-a7cf-ac4fa8bc3508"
      },
      "source": [
        "%time KNN1 = KNNClassifier(X, y)\n",
        "KNN1.visualize_training()\n",
        "%time KNN2 = KNNClassifier(X.iloc[indexes], y.iloc[indexes])\n",
        "KNN2.visualize_training()\n"
      ],
      "execution_count": null,
      "outputs": [
        {
          "output_type": "stream",
          "name": "stdout",
          "text": [
            "CPU times: user 3.48 s, sys: 9.6 ms, total: 3.49 s\n",
            "Wall time: 3.51 s\n"
          ]
        },
        {
          "output_type": "display_data",
          "data": {
            "image/png": "[encoded data removed]",
            "text/plain": [
              "<Figure size 432x288 with 1 Axes>"
            ]
          },
          "metadata": {
            "needs_background": "light"
          }
        },
        {
          "output_type": "stream",
          "name": "stdout",
          "text": [
            "min at k = 19\n",
            "CPU times: user 329 ms, sys: 2.87 ms, total: 332 ms\n",
            "Wall time: 331 ms\n"
          ]
        },
        {
          "output_type": "display_data",
          "data": {
            "image/png": "[encoded data removed]",
            "text/plain": [
              "<Figure size 432x288 with 1 Axes>"
            ]
          },
          "metadata": {
            "needs_background": "light"
          }
        },
        {
          "output_type": "stream",
          "name": "stdout",
          "text": [
            "min at k = 7\n"
          ]
        }
      ]
    },
    {
      "cell_type": "markdown",
      "metadata": {
        "id": "nefUp9BBdDGi"
      },
      "source": [
        "На выборке из эталонов KNN стал показывать результат хуже на $0.09$. Но обучение ускорилось в 10 раз. То есть мы видим, что можно добиться незначительного ухудшения качества работы модели, но при этом многократно ускорить обучение."
      ]
    }
  ]
}